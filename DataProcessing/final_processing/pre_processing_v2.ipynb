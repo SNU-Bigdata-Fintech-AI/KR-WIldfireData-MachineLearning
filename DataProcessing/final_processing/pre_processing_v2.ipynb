{
 "cells": [
  {
   "cell_type": "code",
   "execution_count": 22,
   "id": "fc120c0a-1378-4742-a854-4ce48613ce9e",
   "metadata": {},
   "outputs": [],
   "source": [
    "import pandas as pd\n",
    "\n",
    "col_map = {\n",
    " \n",
    "    \"행정구역\": \"region\",\n",
    "    \"국토면적\": \"land\",\n",
    "    \"산림면적\": \"forest_area\",\n",
    "    \"임목축적\": \"growing_stock\",\n",
    "    \"산림율\": \"forest_ratio\",\n",
    "    \"평균 임목축적\": \"avg_growing_stock\",\n",
    "}\n",
    "\n",
    "df = pd.read_csv(\"/Users/igangsan/Desktop/forest_geo_climate_added.csv\", encoding=\"utf-8-sig\")\n",
    "df = df.rename(columns=col_map)\n",
    "df.to_csv(\"/Users/igangsan/Desktop/2.csv\", index=False, encoding=\"utf-8-sig\")\n"
   ]
  },
  {
   "cell_type": "code",
   "execution_count": 23,
   "id": "ad846b07",
   "metadata": {},
   "outputs": [
    {
     "name": "stdout",
     "output_type": "stream",
     "text": [
      "[완료] NONE 포함 행 삭제 & 지정 열 필터링 & 소문자 통일\n"
     ]
    }
   ],
   "source": [
    "# -*- coding: utf-8 -*-\n",
    "import pandas as pd\n",
    "from pathlib import Path\n",
    "\n",
    "# 입력/출력 경로\n",
    "in_path = Path(\"/Users/igangsan/Desktop/2.csv\")\n",
    "out_path = in_path.with_name(in_path.stem + \"3.csv\")\n",
    "\n",
    "# 남길 열 목록 (소문자 기준)\n",
    "keep_cols = [\n",
    "    \"cntr_grnds_dstnc\", \"frstn_grnds_dstnc\",\n",
    "    \"hr_unit_artmp\", \"hr_unit_hum\", \"hr_unit_wspd_info\",\n",
    "    \"ctpv_nm\", \"fclt_plc_sclsf_nm\", \"fnd_igtn_pstn_nm\", \"fnd_fire_se_nm\",\n",
    "    \"wndrct_brng\",\n",
    "    \"rcpt_dt\", \"dspt_dt\", \"grnds_arvl_dt\", \"bgnn_potfr_dt\", \"prfect_potfr_dt\", \"cbk_dt\",\n",
    "    \"land_area\", \"forest_area\", \"growing_stock\", \"forest_ratio\", \"avg_growing_stock\", \"t2m_mean_c\",\t\"t2m_min_c\",\n",
    "    \"t2m_max_c\",\t\"d2m_mean_c\",\t\"d2m_min_c\",\t\"d2m_max_c\",\t\"u10_mean_ms\",\t\n",
    "    \"v10_mean_ms\",\t\"wind_speed_mean\",\t\"wind_dir_deg\",\t\"tp_sum_mm\",\t\"pev_sum_mm\",\t\"ssrd_sum_jm2\",\t\n",
    "    \"ssrd_sum_mjm2\", \"impute_radius\", \"land\", \"forest_area\", \"growing_stock\", \"forest_ratio\", \"avg_growing_stock\",\n",
    "    \"arrival_time_diff\", \"relax_diff\", \"dispatch_time_diff\", \"golden_time_under_50min\",\t\"is_night\",\t\"month_rcpt\", \"dspt_req_hr\",\t\n",
    "    \"fire_supesn_hr\"\n",
    "]\n",
    "\n",
    "# 1) CSV 읽기 (모두 문자열로 읽음)\n",
    "df = pd.read_csv(\n",
    "    in_path,\n",
    "    dtype=str,\n",
    "    low_memory=False,\n",
    "    keep_default_na=False,\n",
    "    encoding=\"utf-8-sig\",\n",
    ")\n",
    "\n",
    "\n",
    "# 2) 컬럼명 전부 소문자화\n",
    "df.columns = df.columns.str.lower()\n",
    "\n",
    "# 4) 지정한 열만 남기기\n",
    "present_cols = [c for c in keep_cols if c in df.columns]\n",
    "missing_cols = [c for c in keep_cols if c not in df.columns]\n",
    "df = df[present_cols]\n",
    "\n",
    "# 5) 저장 (UTF-8 BOM)\n",
    "df.to_csv(out_path, index=False, encoding=\"utf-8-sig\")\n",
    "\n",
    "print(\"[완료] NONE 포함 행 삭제 & 지정 열 필터링 & 소문자 통일\")"
   ]
  },
  {
   "cell_type": "code",
   "execution_count": 24,
   "id": "af2eafb5",
   "metadata": {},
   "outputs": [
    {
     "name": "stdout",
     "output_type": "stream",
     "text": [
      "[완료] 통합 처리\n"
     ]
    },
    {
     "name": "stderr",
     "output_type": "stream",
     "text": [
      "/var/folders/h1/2kvn4fr11vn6f3469636zhp40000gn/T/ipykernel_5416/23667090.py:35: FutureWarning: DataFrame.applymap has been deprecated. Use DataFrame.map instead.\n",
      "  df = df.applymap(lambda x: x.strip() if isinstance(x, str) else x)\n"
     ]
    }
   ],
   "source": [
    "# -*- coding: utf-8 -*-\n",
    "import pandas as pd\n",
    "import numpy as np\n",
    "import re\n",
    "from pathlib import Path\n",
    "\n",
    "# ===== 경로 =====\n",
    "in_path  = Path(\"/Users/igangsan/Desktop/23.csv\")\n",
    "out_path = in_path.with_name(in_path.stem + \"4.csv\")\n",
    "\n",
    "# ===== 유지할 열(소문자 기준) =====\n",
    "keep_cols = [\n",
    "    \"cntr_grnds_dstnc\", \"frstn_grnds_dstnc\",\n",
    "    \"hr_unit_artmp\", \"hr_unit_hum\", \"hr_unit_wspd_info\",\n",
    "    \"ctpv_nm\", \"fclt_plc_sclsf_nm\", \"fnd_igtn_pstn_nm\", \"fnd_fire_se_nm\",\n",
    "    \"wndrct_brng\",\n",
    "    \"rcpt_dt\", \"dspt_dt\", \"grnds_arvl_dt\", \"bgnn_potfr_dt\", \"prfect_potfr_dt\", \"cbk_dt\",\n",
    "    \"land_area\", \"forest_area\", \"growing_stock\", \"forest_ratio\", \"avg_growing_stock\", \"t2m_mean_c\",\t\"t2m_min_c\",\n",
    "    \"t2m_max_c\",\t\"d2m_mean_c\",\t\"d2m_min_c\",\t\"d2m_max_c\",\t\"u10_mean_ms\",\t\n",
    "    \"v10_mean_ms\",\t\"wind_speed_mean\",\t\"wind_dir_deg\",\t\"tp_sum_mm\",\t\"pev_sum_mm\",\t\"ssrd_sum_jm2\",\t\n",
    "    \"ssrd_sum_mjm2\", \"impute_radius\", \"land\", \"forest_area\", \"growing_stock\", \"forest_ratio\", \"avg_growing_stock\",\n",
    "    \"arrival_time_diff\", \"relax_diff\", \"dispatch_time_diff\", \"golden_time_under_50min\",\t\"is_night\",\t\"month_rcpt\", \"dspt_req_hr\",\t\n",
    "    \"fire_supesn_hr\"\n",
    "]\n",
    "\n",
    "# ===== 1) 읽기 & 기본 정리 =====\n",
    "df = pd.read_csv(\n",
    "    in_path,\n",
    "    dtype=str,\n",
    "    low_memory=False,\n",
    "    keep_default_na=False,   # 'None','NONE' 등이 NaN으로 바뀌지 않게\n",
    "    encoding=\"utf-8-sig\",\n",
    ")\n",
    "\n",
    "df = df.applymap(lambda x: x.strip() if isinstance(x, str) else x)\n",
    "df.columns = df.columns.str.lower()\n",
    "\n",
    "\n",
    "# 지정 열만 유지(파일에 실제 존재하는 열만)\n",
    "present_cols = [c for c in keep_cols if c in df.columns]\n",
    "missing_cols = [c for c in keep_cols if c not in df.columns]\n",
    "df = df[present_cols]\n",
    "\n",
    "# ===== 3) 더미 변수(0/1) 생성 =====\n",
    "dummy_cols = [c for c in [\"ctpv_nm\", \"fclt_plc_sclsf_nm\", \"fnd_igtn_pstn_nm\", \"fnd_fire_se_nm\"] if c in df.columns]\n",
    "if dummy_cols:\n",
    "    df = pd.get_dummies(df, columns=dummy_cols, prefix=dummy_cols, dtype=int)\n",
    "\n",
    "\n",
    "# ===== 5) 저장 =====\n",
    "df.to_csv(out_path, index=False, encoding=\"utf-8-sig\")\n",
    "\n",
    "# ===== 요약 =====\n",
    "print(\"[완료] 통합 처리\")"
   ]
  },
  {
   "cell_type": "code",
   "execution_count": 25,
   "id": "e3e0f59e",
   "metadata": {},
   "outputs": [
    {
     "name": "stdout",
     "output_type": "stream",
     "text": [
      "[완료] 원본 시간 컬럼 삭제\n",
      "- 입력: /Users/igangsan/Desktop/234.csv\n",
      "- 출력: /Users/igangsan/Desktop/2345.csv\n",
      "- 삭제된 컬럼: ['rcpt_dt', 'dspt_dt', 'grnds_arvl_dt', 'bgnn_potfr_dt', 'prfect_potfr_dt', 'cbk_dt']\n"
     ]
    }
   ],
   "source": [
    "# -*- coding: utf-8 -*-\n",
    "import pandas as pd\n",
    "from pathlib import Path\n",
    "\n",
    "# 입력/출력 경로 (앞에서 만든 결과 파일)\n",
    "in_path  = Path('/Users/igangsan/Desktop/234.csv')\n",
    "out_path = in_path.with_name(in_path.stem + \"5.csv\")\n",
    "\n",
    "# CSV 읽기\n",
    "df = pd.read_csv(in_path, encoding=\"utf-8-sig\", low_memory=False)\n",
    "\n",
    "# 삭제할 시간 컬럼 목록 (소문자 기준)\n",
    "drop_time_cols = [\n",
    "    \"rcpt_dt\", \"dspt_dt\", \"grnds_arvl_dt\", \n",
    "    \"bgnn_potfr_dt\", \"prfect_potfr_dt\", \"cbk_dt\"\n",
    "]\n",
    "\n",
    "# 실제 존재하는 컬럼만 삭제\n",
    "drop_existing = [c for c in drop_time_cols if c in df.columns]\n",
    "df = df.drop(columns=drop_existing)\n",
    "\n",
    "# 저장\n",
    "df.to_csv(out_path, index=False, encoding=\"utf-8-sig\")\n",
    "\n",
    "print(\"[완료] 원본 시간 컬럼 삭제\")\n",
    "print(f\"- 입력: {in_path}\")\n",
    "print(f\"- 출력: {out_path}\")\n",
    "print(f\"- 삭제된 컬럼: {drop_existing}\")"
   ]
  },
  {
   "cell_type": "code",
   "execution_count": 26,
   "id": "05d0e1d1",
   "metadata": {},
   "outputs": [
    {
     "name": "stdout",
     "output_type": "stream",
     "text": [
      "[완료] 칼럼명 한글 → 영어 변환\n",
      "- 출력: /Users/igangsan/Desktop/23456.csv\n"
     ]
    }
   ],
   "source": [
    "import pandas as pd\n",
    "from pathlib import Path\n",
    "\n",
    "# 입력/출력 경로\n",
    "in_path  = Path('/Users/igangsan/Desktop/2345.csv')\n",
    "out_path = in_path.with_name(in_path.stem + \"6.csv\")\n",
    "\n",
    "df = pd.read_csv(in_path, encoding=\"utf-8-sig\", low_memory=False)\n",
    "\n",
    "# 한글 → 영어 매핑 사전 (예시)\n",
    "kor2eng = {\n",
    "    \"서울특별시\": \"seoul\",\n",
    "    \"부산광역시\": \"busan\",\n",
    "    \"대구광역시\": \"daegu\",\n",
    "    \"인천광역시\": \"incheon\",\n",
    "    \"광주광역시\": \"gwangju\",\n",
    "    \"대전광역시\": \"daejeon\",\n",
    "    \"울산광역시\": \"ulsan\",\n",
    "    \"경기도\": \"gyeonggi\",\n",
    "    \"강원특별자치도\": \"gangwon\",\n",
    "    \"충청북도\": \"chungbuk\",\n",
    "    \"충청남도\": \"chungnam\",\n",
    "    \"전북특별자치도\": \"jeonbuk\",\n",
    "    \"세종특별자치시\": \"sejong\",\n",
    "    \"전라남도\": \"jeonnam\",\n",
    "    \"경상북도\": \"gyeongbuk\",\n",
    "    \"경상남도\": \"gyeongnam\",\n",
    "    \"제주특별자치도\": \"jeju\",\n",
    "    \"남\": \"south\",\n",
    "    \"북\": \"north\",\n",
    "    \"동\": \"east\",\n",
    "    \"서\": \"west\",\n",
    "    \"공유림\": \"public\",\n",
    "    \"국유림\": \"national\",\n",
    "    \"사유림\": \"private\",\n",
    "    \"미상\": \"unknown\",\n",
    "    \"산아래\": \"under\",\n",
    "    \"산정상\": \"top\",\n",
    "    \"산중턱\": \"middle\",\n",
    "    \"평지\": \"plain\",\n",
    "    \n",
    "    # 필요하면 계속 추가\n",
    "}\n",
    "\n",
    "# 칼럼명 변환 함수\n",
    "def translate_col(colname: str) -> str:\n",
    "    new_name = colname\n",
    "    for k, v in kor2eng.items():\n",
    "        if k in new_name:\n",
    "            new_name = new_name.replace(k, v)\n",
    "    return new_name\n",
    "\n",
    "df.columns = [translate_col(c) for c in df.columns]\n",
    "\n",
    "# 저장\n",
    "df.to_csv(out_path, index=False, encoding=\"utf-8-sig\")\n",
    "\n",
    "print(\"[완료] 칼럼명 한글 → 영어 변환\")\n",
    "print(f\"- 출력: {out_path}\")"
   ]
  },
  {
   "cell_type": "code",
   "execution_count": 27,
   "id": "661574df",
   "metadata": {},
   "outputs": [
    {
     "name": "stdout",
     "output_type": "stream",
     "text": [
      "[완료] 지정된 컬럼 삭제\n",
      "- 입력 파일: /Users/igangsan/Desktop/23456.csv\n",
      "- 출력 파일: /Users/igangsan/Desktop/final.csv\n",
      "- 삭제된 컬럼: ['fnd_igtn_pstn_nm_plain', 'fnd_fire_se_nm_public', 'fnd_fire_se_nm_national']\n"
     ]
    }
   ],
   "source": [
    "# -*- coding: utf-8 -*-\n",
    "import pandas as pd\n",
    "from pathlib import Path\n",
    "\n",
    "# 입력/출력 경로 (본인 파일 경로로 변경하세요)\n",
    "in_path  = Path('/Users/igangsan/Desktop/23456.csv')\n",
    "out_path = Path(\"/Users/igangsan/Desktop/final.csv\")\n",
    "\n",
    "# CSV 읽기\n",
    "df = pd.read_csv(in_path, encoding=\"utf-8-sig\", low_memory=False)\n",
    "\n",
    "# 드랍할 컬럼 목록\n",
    "drop_cols = [\"fnd_igtn_pstn_nm_plain\", \"fnd_fire_se_nm_public\", \"fnd_fire_se_nm_national\"]\n",
    "\n",
    "# 실제 존재하는 컬럼만 삭제\n",
    "drop_existing = [c for c in drop_cols if c in df.columns]\n",
    "df = df.drop(columns=drop_existing)\n",
    "\n",
    "# 저장\n",
    "df.to_csv(out_path, index=False, encoding=\"utf-8-sig\")\n",
    "\n",
    "print(\"[완료] 지정된 컬럼 삭제\")\n",
    "print(f\"- 입력 파일: {in_path}\")\n",
    "print(f\"- 출력 파일: {out_path}\")\n",
    "print(f\"- 삭제된 컬럼: {drop_existing}\")"
   ]
  },
  {
   "cell_type": "code",
   "execution_count": 29,
   "id": "12f2ae69",
   "metadata": {},
   "outputs": [
    {
     "name": "stdout",
     "output_type": "stream",
     "text": [
      "저장 완료: /Users/igangsan/Desktop/final_3.csv\n"
     ]
    }
   ],
   "source": [
    "import pandas as pd\n",
    "\n",
    "IN_PATH  = \"/Users/igangsan/Desktop/final.csv\"\n",
    "OUT_PATH = \"/Users/igangsan/Desktop/final_3.csv\"\n",
    "\n",
    "# CSV 로드\n",
    "df = pd.read_csv(IN_PATH)\n",
    "\n",
    "# 삭제할 컬럼 목록\n",
    "drop_cols = [\n",
    "    \"growing_stock.1\",\n",
    "    \"forest_ratio.1\",\n",
    "    \"avg_growing_stock.1\",\n",
    "    \"hr_unit_wspd_info\",\n",
    "    \"wndrct_brng\",\n",
    "    \"hr_unit_artmp\",\n",
    "    \"hr_unit_hum\"\n",
    "]\n",
    "\n",
    "# 실제 있는 컬럼만 안전하게 삭제\n",
    "df = df.drop(columns=[c for c in drop_cols if c in df.columns], errors=\"ignore\")\n",
    "\n",
    "# 저장\n",
    "df.to_csv(OUT_PATH, index=False, encoding=\"utf-8-sig\")\n",
    "print(f\"저장 완료: {OUT_PATH}\")"
   ]
  },
  {
   "cell_type": "code",
   "execution_count": null,
   "id": "f6869c60",
   "metadata": {},
   "outputs": [],
   "source": []
  }
 ],
 "metadata": {
  "kernelspec": {
   "display_name": "Python 3 (ipykernel)",
   "language": "python",
   "name": "python3"
  },
  "language_info": {
   "codemirror_mode": {
    "name": "ipython",
    "version": 3
   },
   "file_extension": ".py",
   "mimetype": "text/x-python",
   "name": "python",
   "nbconvert_exporter": "python",
   "pygments_lexer": "ipython3",
   "version": "3.13.5"
  }
 },
 "nbformat": 4,
 "nbformat_minor": 5
}
